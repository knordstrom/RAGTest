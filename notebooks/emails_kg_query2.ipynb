{
 "cells": [
  {
   "cell_type": "markdown",
   "id": "113e80c2-4b0c-4b01-b138-ed6a7ec4836b",
   "metadata": {},
   "source": [
    "### Imports"
   ]
  },
  {
   "cell_type": "code",
   "execution_count": 1,
   "id": "c3d49210-d8a7-4372-8b4b-98544377abb7",
   "metadata": {},
   "outputs": [],
   "source": [
    "from typing import List, Optional\n",
    "from langchain.chains.openai_functions import create_structured_output_chain\n",
    "from langchain_core.prompts import ChatPromptTemplate\n",
    "from langchain_core.pydantic_v1 import BaseModel, Field\n",
    "from langchain_openai import ChatOpenAI\n",
    "from langchain_community.graphs import Neo4jGraph\n",
    "from langchain.chains import GraphCypherQAChain\n",
    "from langchain_core.output_parsers import StrOutputParser\n",
    "from langchain_core.runnables import RunnablePassthrough\n",
    "from langchain.chains.graph_qa.cypher_utils import CypherQueryCorrector, Schema\n",
    "import logging"
   ]
  },
  {
   "cell_type": "markdown",
   "id": "41d8bf30-0207-4984-a347-1356012f2eb4",
   "metadata": {},
   "source": [
    "### Connect to the Neo4j database and instantiate an LLM Transformer"
   ]
  },
  {
   "cell_type": "code",
   "execution_count": 2,
   "id": "141e1cb0-42d0-460c-9454-05c3154b5467",
   "metadata": {},
   "outputs": [],
   "source": [
    "openai_apikey = \"\"\n",
    "url = \"bolt://localhost:7687\"\n",
    "username = \"neo4j\"\n",
    "password = \"\"\n",
    "graph = Neo4jGraph(url=url, username=username, password=password)\n",
    "\n",
    "llm = ChatOpenAI(temperature=0, model_name=\"gpt-4-0125-preview\", openai_api_key=openai_apikey)"
   ]
  },
  {
   "cell_type": "markdown",
   "id": "56c0742b-6f62-4c6e-a04d-771058fff9be",
   "metadata": {},
   "source": [
    "### Query Technique by Extracting Entities from the Query\n",
    "\n",
    "We have to extract the types of entities/values we want to map to a graph database. \n",
    "In this example, we are dealing with a email chain graph, so we can map meetings, documents and people to the database."
   ]
  },
  {
   "cell_type": "code",
   "execution_count": 4,
   "id": "80cf689d-5fe0-4f54-a898-8c9b33abcbfb",
   "metadata": {},
   "outputs": [
    {
     "name": "stdout",
     "output_type": "stream",
     "text": [
      "entities:  {'question': 'Who is attending the Kickoff Meeting?', 'function': Entities(names=['Kickoff Meeting'])}\n"
     ]
    }
   ],
   "source": [
    "class Entities(BaseModel):\n",
    "    \"\"\"Identifying information about entities.\"\"\"\n",
    "\n",
    "    names: List[str] = Field(\n",
    "        ...,\n",
    "        description=\"All the persons, documents, events or dates appearing in the text\",\n",
    "    )\n",
    "\n",
    "\n",
    "prompt = ChatPromptTemplate.from_messages(\n",
    "    [\n",
    "        (\n",
    "            \"system\",\n",
    "            \"You are extracting persons, documents, events or dates from the text.\",\n",
    "        ),\n",
    "        (\n",
    "            \"human\",\n",
    "            \"Use the given format to extract information from the following \"\n",
    "            \"input: {question}\",\n",
    "        ),\n",
    "    ]\n",
    ")\n",
    "\n",
    "\n",
    "entity_chain = create_structured_output_chain(Entities, llm, prompt)\n",
    "\n",
    "## testing out if this entity chain works\n",
    "# that is, testing out if entities are being extracted from the query\n",
    "\n",
    "entities = entity_chain.invoke({\"question\": \"Who is attending the Kickoff Meeting?\"})\n",
    "print(\"entities: \", entities)"
   ]
  },
  {
   "cell_type": "markdown",
   "id": "0769a17f-3602-4567-8677-4f6d3b100ae4",
   "metadata": {},
   "source": [
    "### Map Identified Entity to the Entities in the KG\n"
   ]
  },
  {
   "cell_type": "code",
   "execution_count": 5,
   "id": "12cbf893-a5af-43b4-a607-52a55ff94460",
   "metadata": {},
   "outputs": [
    {
     "name": "stdout",
     "output_type": "stream",
     "text": [
      "map_to_database function returned:  Kickoff Meeting maps to Kickoff Meeting Event in database\n",
      "\n"
     ]
    }
   ],
   "source": [
    "match_query = \"\"\"MATCH (p:Person|Document|Event|Date)\n",
    "WHERE p.id CONTAINS $value\n",
    "RETURN coalesce(p.id) AS result, labels(p)[0] AS type\n",
    "LIMIT 1\n",
    "\"\"\"\n",
    "\n",
    "\n",
    "def map_to_database(values):\n",
    "    result = \"\"\n",
    "    for entity in values.names:\n",
    "        response = graph.query(match_query, {\"value\": entity})\n",
    "        try:\n",
    "            result += f\"{entity} maps to {response[0]['result']} {response[0]['type']} in database\\n\"\n",
    "        except IndexError:\n",
    "            pass\n",
    "    return result\n",
    "\n",
    "## check if this map_to_database function works\n",
    "res = map_to_database(entities[\"function\"])\n",
    "print(\"map_to_database function returned: \", res)"
   ]
  },
  {
   "cell_type": "markdown",
   "id": "22ee7d29-5f40-47fd-8734-193f5e56dd66",
   "metadata": {},
   "source": [
    "### Custom Cypher generating chain\n",
    "We need to define a custom Cypher prompt that takes the entity mapping information along with the schema and the user question to construct a Cypher statement. \n",
    "We will be using the LangChain expression language to accomplish that."
   ]
  },
  {
   "cell_type": "code",
   "execution_count": 6,
   "id": "4490c40b-5a66-4331-affa-049b8e3a6b47",
   "metadata": {},
   "outputs": [],
   "source": [
    "# Generate Cypher statement based on natural language input\n",
    "cypher_template = \"\"\"Based on the Neo4j graph schema below, write a Cypher query that would answer the user's question:\n",
    "{schema}\n",
    "Entities in the question map to the following database values:\n",
    "{entities_list}\n",
    "Question: {question}\n",
    "Cypher query:\"\"\"  # noqa: E501"
   ]
  },
  {
   "cell_type": "code",
   "execution_count": 7,
   "id": "b70e7eeb-26af-424d-964d-8921964df479",
   "metadata": {},
   "outputs": [
    {
     "name": "stdout",
     "output_type": "stream",
     "text": [
      "cypher:  MATCH (p:Person)-[:ORGANIZER]->(e:Event {id: \"Kickoff Meeting\"})\n",
      "RETURN p.id AS OrganizerID\n"
     ]
    }
   ],
   "source": [
    "cypher_prompt = ChatPromptTemplate.from_messages(\n",
    "    [\n",
    "        (\n",
    "            \"system\",\n",
    "            \"Given an input question, convert it to a Cypher query without markdown elements. No pre-amble.\",\n",
    "        ),\n",
    "        (\"human\", cypher_template),\n",
    "    ]\n",
    ")\n",
    "\n",
    "\n",
    "cypher_response = (\n",
    "    RunnablePassthrough.assign(names=entity_chain)\n",
    "    | RunnablePassthrough.assign(\n",
    "        entities_list=lambda x: map_to_database(x[\"names\"][\"function\"]),\n",
    "        schema=lambda _: graph.get_schema,\n",
    "    )\n",
    "    | cypher_prompt\n",
    "    | llm.bind(stop=[\"\\nCypherResult:\"])\n",
    "    | StrOutputParser()\n",
    ")\n",
    "\n",
    "cypher = cypher_response.invoke({\"question\": \"Who is the organizer of the Kickoff Meeting?\"})\n",
    "cleaned_cypher = cypher.strip('`').strip('cypher').strip()\n",
    "print(\"cypher: \", cleaned_cypher)"
   ]
  },
  {
   "cell_type": "markdown",
   "id": "a1cd3ca6-8431-4ced-9000-c63387578cab",
   "metadata": {},
   "source": [
    "### Generating answers based on database results\n",
    "Now that we have a chain that generates the Cypher statement, we need to execute the Cypher statement against the database and send the database results back to an LLM to generate the final answer. "
   ]
  },
  {
   "cell_type": "code",
   "execution_count": 8,
   "id": "0427f41c-c46d-44e9-8258-77a1925f3b7e",
   "metadata": {},
   "outputs": [
    {
     "name": "stdout",
     "output_type": "stream",
     "text": [
      "result:  The organizer of the Kickoff Meeting is Emily.\n"
     ]
    }
   ],
   "source": [
    "# Cypher validation tool for relationship directions\n",
    "corrector_schema = [\n",
    "    Schema(el[\"start\"], el[\"type\"], el[\"end\"])\n",
    "    for el in graph.structured_schema.get(\"relationships\")\n",
    "]\n",
    "cypher_validation = CypherQueryCorrector(corrector_schema)\n",
    "\n",
    "# Generate natural language response based on database results\n",
    "response_template = \"\"\"Based on the the question, Cypher query, and Cypher response, write a natural language response:\n",
    "Question: {question}\n",
    "Cypher query: {query}\n",
    "Cypher Response: {response}\"\"\"  # noqa: E501\n",
    "\n",
    "try:\n",
    "    response_prompt = ChatPromptTemplate.from_messages(\n",
    "        [\n",
    "            (\n",
    "                \"system\",\n",
    "                \"Given an input question and Cypher response, convert it to a natural\"\n",
    "                \" language answer. No pre-amble.\",\n",
    "            ),\n",
    "            (\"human\", response_template),\n",
    "        ]\n",
    "    )\n",
    "\n",
    "    chain = (\n",
    "        RunnablePassthrough.assign(query=cypher_response)\n",
    "        | RunnablePassthrough.assign(\n",
    "            response=lambda x: graph.query(cypher_validation(x[\"query\"])),\n",
    "        )\n",
    "        | response_prompt\n",
    "        | llm\n",
    "        | StrOutputParser()\n",
    "    )\n",
    "    result = chain.invoke({\"question\": \"Who is the organizer of the Kickoff Meeting?\"})\n",
    "    print(\"result: \", result)\n",
    "except Exception as e:\n",
    "        logging.error(\"Failed to process chain: %s\", e)"
   ]
  },
  {
   "cell_type": "markdown",
   "id": "4a21dd43-4ae1-47f6-88dd-5de253acb909",
   "metadata": {},
   "source": [
    "### Observations\n",
    "\n",
    "Again I noticed that unless there was an exact match between the entity extracted from the query and the ones present in the KG, the query result would be an \"I don't know\"\n"
   ]
  },
  {
   "cell_type": "code",
   "execution_count": null,
   "id": "bb11d8b3-e31a-4f74-be07-e8f4badfd641",
   "metadata": {},
   "outputs": [],
   "source": []
  }
 ],
 "metadata": {
  "kernelspec": {
   "display_name": "Python 3 (ipykernel)",
   "language": "python",
   "name": "python3"
  },
  "language_info": {
   "codemirror_mode": {
    "name": "ipython",
    "version": 3
   },
   "file_extension": ".py",
   "mimetype": "text/x-python",
   "name": "python",
   "nbconvert_exporter": "python",
   "pygments_lexer": "ipython3",
   "version": "3.10.14"
  }
 },
 "nbformat": 4,
 "nbformat_minor": 5
}
