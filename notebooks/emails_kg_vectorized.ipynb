{
 "cells": [
  {
   "cell_type": "markdown",
   "id": "fa64ca10-ca00-4b9f-bada-30f1f5fe8bb5",
   "metadata": {},
   "source": [
    "### Imports"
   ]
  },
  {
   "cell_type": "code",
   "execution_count": 1,
   "id": "f1c9ad56-0427-4186-ae78-4153fdf4bb7a",
   "metadata": {},
   "outputs": [],
   "source": [
    "from typing import List, Optional\n",
    "from langchain.chains.openai_functions import create_structured_output_chain\n",
    "from langchain_core.prompts import ChatPromptTemplate\n",
    "from langchain_core.pydantic_v1 import BaseModel, Field\n",
    "from langchain_openai import ChatOpenAI\n",
    "from langchain_community.graphs import Neo4jGraph\n",
    "from langchain.chains import GraphCypherQAChain\n",
    "from langchain_core.output_parsers import StrOutputParser\n",
    "from langchain_core.runnables import RunnablePassthrough\n",
    "from langchain.chains.graph_qa.cypher_utils import CypherQueryCorrector, Schema\n",
    "from langchain_experimental.graph_transformers import LLMGraphTransformer\n",
    "from langchain_core.documents import Document\n",
    "from langchain.embeddings.openai import OpenAIEmbeddings\n",
    "from langchain.vectorstores.neo4j_vector import Neo4jVector\n",
    "import os"
   ]
  },
  {
   "cell_type": "markdown",
   "id": "b4191b8d-fba2-4f07-9c85-e7c018e524b0",
   "metadata": {},
   "source": [
    "### Connect to the Neo4j database and instantiate an LLM Transformer"
   ]
  },
  {
   "cell_type": "code",
   "execution_count": 2,
   "id": "d329d121-e14d-4e83-955b-2df1efa106af",
   "metadata": {},
   "outputs": [],
   "source": [
    "openai_apikey = \"\"\n",
    "url = \"bolt://localhost:7687\"\n",
    "username = \"neo4j\"\n",
    "password = \"\"\n",
    "graph = Neo4jGraph(url=url, username=username, password=password)\n",
    "\n",
    "llm = ChatOpenAI(temperature=0, model_name=\"gpt-4-0125-preview\", openai_api_key=openai_apikey)\n",
    "llm_transformer = LLMGraphTransformer(llm=llm)"
   ]
  },
  {
   "cell_type": "markdown",
   "id": "739307c8-20c0-4111-bdcb-fbc819feee3c",
   "metadata": {},
   "source": [
    "### Define an Embeddings Model and a List of Entities to Create Embeddings for"
   ]
  },
  {
   "cell_type": "code",
   "execution_count": 4,
   "id": "7697e58a-9ada-450b-a880-5b77f65da958",
   "metadata": {},
   "outputs": [],
   "source": [
    "# embedding model\n",
    "embeddings_model = \"text-embedding-3-small\"  # Or another model like \"text-davinci-003\" for embeddings\n",
    "entities_list = ['Date', 'Document', 'Event', 'Group', 'Person']"
   ]
  },
  {
   "cell_type": "markdown",
   "id": "b6e5c0e8-b070-45fe-8706-df717464e5d6",
   "metadata": {},
   "source": [
    "### Provide Email Text and Build the Knowledge Graph (KG)\n",
    "\n",
    "Loop through all the emails in the emails folder and create a KG using text present in them."
   ]
  },
  {
   "cell_type": "code",
   "execution_count": 5,
   "id": "be3e7509-1283-4e18-922e-8cac8060911f",
   "metadata": {},
   "outputs": [
    {
     "name": "stdout",
     "output_type": "stream",
     "text": [
      "Processing emails/email1.txt\n",
      "Nodes: [Node(id='Q2 Financial Report', type='Report'), Node(id='Kickoff Meeting', type='Event'), Node(id='Emily', type='Person')]\n",
      "Relationships: [Relationship(source=Node(id='Emily', type='Person'), target=Node(id='Kickoff Meeting', type='Event'), type='ORGANIZER'), Relationship(source=Node(id='Kickoff Meeting', type='Event'), target=Node(id='Q2 Financial Report', type='Report'), type='DISCUSSION_TOPIC')]\n",
      "Processing emails/email2.txt\n",
      "Nodes: [Node(id='Emily', type='Person'), Node(id='Tom', type='Person')]\n",
      "Relationships: [Relationship(source=Node(id='Tom', type='Person'), target=Node(id='Emily', type='Person'), type='COMMUNICATION')]\n",
      "Processing emails/email3.txt\n",
      "Nodes: [Node(id='Emily', type='Person'), Node(id='Sophia', type='Person')]\n",
      "Relationships: [Relationship(source=Node(id='Sophia', type='Person'), target=Node(id='Emily', type='Person'), type='COMMUNICATION')]\n",
      "Processing emails/email4.txt\n",
      "Nodes: [Node(id='Emily', type='Person'), Node(id='Raj', type='Person'), Node(id='Meeting', type='Event'), Node(id='Sales Figures', type='Document'), Node(id='Projections', type='Document')]\n",
      "Relationships: [Relationship(source=Node(id='Raj', type='Person'), target=Node(id='Meeting', type='Event'), type='ATTEND'), Relationship(source=Node(id='Raj', type='Person'), target=Node(id='Sales Figures', type='Document'), type='BRING'), Relationship(source=Node(id='Raj', type='Person'), target=Node(id='Projections', type='Document'), type='BRING')]\n",
      "Processing emails/email5.txt\n",
      "Nodes: [Node(id='Meeting', type='Event'), Node(id='Agenda', type='Document'), Node(id='Report', type='Document'), Node(id='Emily', type='Person')]\n",
      "Relationships: [Relationship(source=Node(id='Emily', type='Person'), target=Node(id='Meeting', type='Event'), type='ORGANIZER'), Relationship(source=Node(id='Agenda', type='Document'), target=Node(id='Meeting', type='Event'), type='RELATED_TO'), Relationship(source=Node(id='Meeting', type='Event'), target=Node(id='Report', type='Document'), type='DISCUSSION_TOPIC')]\n",
      "Processing emails/email6.txt\n",
      "Nodes: [Node(id='Sophia', type='Person'), Node(id='Tom', type='Person'), Node(id='Engagement Stats', type='Data'), Node(id='Campaign Results', type='Data'), Node(id='Market Trends', type='Concept'), Node(id='Presentation', type='Event')]\n",
      "Relationships: [Relationship(source=Node(id='Tom', type='Person'), target=Node(id='Sophia', type='Person'), type='REQUEST'), Relationship(source=Node(id='Tom', type='Person'), target=Node(id='Engagement Stats', type='Data'), type='NEED'), Relationship(source=Node(id='Engagement Stats', type='Data'), target=Node(id='Campaign Results', type='Data'), type='CORRELATE_WITH'), Relationship(source=Node(id='Campaign Results', type='Data'), target=Node(id='Market Trends', type='Concept'), type='CORRELATE_WITH'), Relationship(source=Node(id='Tom', type='Person'), target=Node(id='Presentation', type='Event'), type='PREPARE_FOR')]\n",
      "Processing emails/email7.txt\n",
      "Nodes: [Node(id='Tom', type='Person'), Node(id='Sophia', type='Person')]\n",
      "Relationships: [Relationship(source=Node(id='Sophia', type='Person'), target=Node(id='Tom', type='Person'), type='SENT_MESSAGE')]\n",
      "Processing emails/email8.txt\n",
      "Nodes: [Node(id='Tom', type='Person'), Node(id='Raj', type='Person')]\n",
      "Relationships: [Relationship(source=Node(id='Raj', type='Person'), target=Node(id='Tom', type='Person'), type='COMMUNICATION')]\n",
      "Processing emails/email9.txt\n",
      "Nodes: [Node(id='Raj', type='Person'), Node(id='Tom', type='Person')]\n",
      "Relationships: [Relationship(source=Node(id='Tom', type='Person'), target=Node(id='Raj', type='Person'), type='COMMUNICATION')]\n",
      "Processing emails/email10.txt\n",
      "Nodes: [Node(id='Emily', type='Person'), Node(id='Team', type='Group'), Node(id='Draft Report', type='Document'), Node(id='Next Wednesday', type='Date')]\n",
      "Relationships: [Relationship(source=Node(id='Emily', type='Person'), target=Node(id='Team', type='Group'), type='THANKED'), Relationship(source=Node(id='Team', type='Group'), target=Node(id='Draft Report', type='Document'), type='PREPARE'), Relationship(source=Node(id='Draft Report', type='Document'), target=Node(id='Next Wednesday', type='Date'), type='REVIEW_BY')]\n"
     ]
    }
   ],
   "source": [
    "email_folder = 'emails'  # Folder where your email files are stored\n",
    "\n",
    "for i in range(1, 11):  # Assuming you have 10 emails, labeled email1.txt to email10.txt\n",
    "    file_path = os.path.join(email_folder, f'email{i}.txt')\n",
    "    try:\n",
    "        with open(file_path, 'r', encoding='utf-8') as file:\n",
    "            text = file.read()\n",
    "            documents = [Document(page_content=text)]\n",
    "            graph_documents = llm_transformer.convert_to_graph_documents(documents)\n",
    "            print(f'Processing {file_path}')\n",
    "            print(f\"Nodes: {graph_documents[0].nodes}\")\n",
    "            print(f\"Relationships: {graph_documents[0].relationships}\")\n",
    "\n",
    "            graph.add_graph_documents(graph_documents)\n",
    "    except Exception as e:\n",
    "        print(f\"Failed to process {file_path}: {str(e)}\")"
   ]
  },
  {
   "cell_type": "markdown",
   "id": "665054be-a092-4bcb-96a8-60effb263b42",
   "metadata": {},
   "source": [
    "### Embed Entities in the KG using the \"id\" Property"
   ]
  },
  {
   "cell_type": "code",
   "execution_count": 6,
   "id": "d802af28-36b0-47ed-be13-6aefca10d3f8",
   "metadata": {},
   "outputs": [
    {
     "name": "stderr",
     "output_type": "stream",
     "text": [
      "/Users/mithalishashidhar/miniforge3/lib/python3.10/site-packages/langchain_core/_api/deprecation.py:119: LangChainDeprecationWarning: The class `OpenAIEmbeddings` was deprecated in LangChain 0.0.9 and will be removed in 0.2.0. An updated version of the class exists in the langchain-openai package and should be used instead. To use it run `pip install -U langchain-openai` and import as `from langchain_openai import OpenAIEmbeddings`.\n",
      "  warn_deprecated(\n"
     ]
    }
   ],
   "source": [
    "def embed_entities(entity_type):\n",
    "    vector_index = Neo4jVector.from_existing_graph(\n",
    "        OpenAIEmbeddings(model=embeddings_model,openai_api_key=openai_apikey),\n",
    "        url=url,\n",
    "        username=username,\n",
    "        password=password,\n",
    "        index_name=entity_type,\n",
    "        node_label=entity_type,\n",
    "        text_node_properties=['id'],\n",
    "        embedding_node_property='embedding',\n",
    "    )\n",
    "    \n",
    "\n",
    "for t in entities_list:\n",
    "    embed_entities(t)"
   ]
  },
  {
   "cell_type": "code",
   "execution_count": null,
   "id": "e15679d9-6a8e-43fe-a4ec-0974f086f44f",
   "metadata": {},
   "outputs": [],
   "source": []
  }
 ],
 "metadata": {
  "kernelspec": {
   "display_name": "Python 3 (ipykernel)",
   "language": "python",
   "name": "python3"
  },
  "language_info": {
   "codemirror_mode": {
    "name": "ipython",
    "version": 3
   },
   "file_extension": ".py",
   "mimetype": "text/x-python",
   "name": "python",
   "nbconvert_exporter": "python",
   "pygments_lexer": "ipython3",
   "version": "3.10.14"
  }
 },
 "nbformat": 4,
 "nbformat_minor": 5
}
