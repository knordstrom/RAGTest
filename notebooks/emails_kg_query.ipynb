{
 "cells": [
  {
   "cell_type": "markdown",
   "id": "9df4bd82-0384-48d4-80dc-145da164fff2",
   "metadata": {},
   "source": [
    "### Imports"
   ]
  },
  {
   "cell_type": "code",
   "execution_count": 1,
   "id": "b7705d81-c5c0-4c84-97a0-f87fd9600207",
   "metadata": {},
   "outputs": [],
   "source": [
    "from langchain_community.graphs import Neo4jGraph\n",
    "from langchain_openai import ChatOpenAI\n",
    "from langchain.chains import GraphCypherQAChain"
   ]
  },
  {
   "cell_type": "markdown",
   "id": "a6c8a158-3cc5-4450-9b3c-c00c628844fd",
   "metadata": {},
   "source": [
    "### Connect to the Neo4j database and instantiate an LLM Transformer"
   ]
  },
  {
   "cell_type": "code",
   "execution_count": 2,
   "id": "3a6c134e-a25a-44b1-83b0-41563e05a268",
   "metadata": {},
   "outputs": [],
   "source": [
    "openai_apikey = \"\"\n",
    "url = \"bolt://localhost:7687\"\n",
    "username = \"neo4j\"\n",
    "password = \"\"\n",
    "graph = Neo4jGraph(url=url, username=username, password=password)\n",
    "\n",
    "llm = ChatOpenAI(temperature=0, model_name=\"gpt-4-0125-preview\", openai_api_key=openai_apikey)"
   ]
  },
  {
   "cell_type": "markdown",
   "id": "f3d96a8f-b0b5-4ffb-8f3d-b38effff6856",
   "metadata": {},
   "source": [
    "### Query the Graph using GraphCypherQAChain"
   ]
  },
  {
   "cell_type": "code",
   "execution_count": 3,
   "id": "d646da53-950a-4fc8-994f-8872b4b7c6ec",
   "metadata": {},
   "outputs": [
    {
     "name": "stdout",
     "output_type": "stream",
     "text": [
      "\n",
      "\n",
      "\u001b[1m> Entering new GraphCypherQAChain chain...\u001b[0m\n",
      "Generated Cypher:\n",
      "\u001b[32;1m\u001b[1;3mcypher\n",
      "MATCH (:Event {id: \"kickoff\"})<-[:THANKED_FOR]-(:Person)-[:THANKED]->(group:Group)\n",
      "RETURN DISTINCT group.id AS GroupID\n",
      "\u001b[0m\n",
      "Full Context:\n",
      "\u001b[32;1m\u001b[1;3m[]\u001b[0m\n",
      "\n",
      "\u001b[1m> Finished chain.\u001b[0m\n",
      "{'query': 'Who are the people attending the kickoff meeting?', 'result': \"I don't know the answer.\"}\n"
     ]
    }
   ],
   "source": [
    "chain = GraphCypherQAChain.from_llm(graph=graph, llm=llm, verbose=True, validate_cypher=True)\n",
    "response = chain.invoke({\"query\": \"Who are the people attending the kickoff meeting?\"})\n",
    "\n",
    "print(response)"
   ]
  },
  {
   "cell_type": "markdown",
   "id": "c9fa26ea-a026-4006-90ca-cde5967482c4",
   "metadata": {},
   "source": [
    "### Observations\n",
    "\n",
    "I noticed that unless the words in the query exactly matched the entities and relationships in the graph, it did not return an answer.\n",
    "\n",
    "In this case, even if it did match an answer was not returned."
   ]
  },
  {
   "cell_type": "code",
   "execution_count": 4,
   "id": "21f75a7e-319b-4b75-93fb-8bfa4323e127",
   "metadata": {},
   "outputs": [
    {
     "name": "stdout",
     "output_type": "stream",
     "text": [
      "\n",
      "\n",
      "\u001b[1m> Entering new GraphCypherQAChain chain...\u001b[0m\n",
      "Generated Cypher:\n",
      "\u001b[32;1m\u001b[1;3mcypher\n",
      "MATCH (:Event {id: \"Kickoff Meeting\"})<-[:THANKED_FOR]-(:Person)-[:THANKED]->(group:Group)\n",
      "RETURN group.id AS Organizer\n",
      "\u001b[0m\n",
      "Full Context:\n",
      "\u001b[32;1m\u001b[1;3m[]\u001b[0m\n",
      "\n",
      "\u001b[1m> Finished chain.\u001b[0m\n",
      "{'query': 'Who is organizing the Kickoff Meeting?', 'result': \"I don't know the answer.\"}\n"
     ]
    }
   ],
   "source": [
    "chain = GraphCypherQAChain.from_llm(graph=graph, llm=llm, verbose=True, validate_cypher=True)\n",
    "response = chain.invoke({\"query\": \"Who is organizing the Kickoff Meeting?\"})\n",
    "\n",
    "print(response)"
   ]
  },
  {
   "cell_type": "code",
   "execution_count": null,
   "id": "5a40dd6a-b96d-44d9-bf59-53e6f6e123d8",
   "metadata": {},
   "outputs": [],
   "source": []
  }
 ],
 "metadata": {
  "kernelspec": {
   "display_name": "Python 3 (ipykernel)",
   "language": "python",
   "name": "python3"
  },
  "language_info": {
   "codemirror_mode": {
    "name": "ipython",
    "version": 3
   },
   "file_extension": ".py",
   "mimetype": "text/x-python",
   "name": "python",
   "nbconvert_exporter": "python",
   "pygments_lexer": "ipython3",
   "version": "3.10.14"
  }
 },
 "nbformat": 4,
 "nbformat_minor": 5
}
