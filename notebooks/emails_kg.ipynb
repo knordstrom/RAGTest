{
 "cells": [
  {
   "cell_type": "markdown",
   "id": "2971e695-eb4c-4040-bf7b-90a4ea7f973c",
   "metadata": {},
   "source": [
    "### Imports"
   ]
  },
  {
   "cell_type": "code",
   "execution_count": 5,
   "id": "7e4f41e2-3965-4785-9c87-ad94bb169df8",
   "metadata": {},
   "outputs": [],
   "source": [
    "from langchain_community.graphs import Neo4jGraph\n",
    "from langchain_experimental.graph_transformers import LLMGraphTransformer\n",
    "from langchain_openai import ChatOpenAI\n",
    "from langchain_core.documents import Document"
   ]
  },
  {
   "cell_type": "markdown",
   "id": "e4e2b0d1-c5fa-4d0f-9c9a-af60b48a7469",
   "metadata": {},
   "source": [
    "### Connect to the Neo4j database and instantiate an LLM Transformer"
   ]
  },
  {
   "cell_type": "code",
   "execution_count": 8,
   "id": "5699ca0f-a583-469f-8ce5-548b52ace97a",
   "metadata": {},
   "outputs": [],
   "source": [
    "openai_apikey = \"\"\n",
    "url = \"bolt://localhost:7687\"\n",
    "username = \"neo4j\"\n",
    "password = \"\"\n",
    "graph = Neo4jGraph(url=url, username=username, password=password)\n",
    "\n",
    "llm = ChatOpenAI(temperature=0, model_name=\"gpt-4-0125-preview\", openai_api_key=openai_apikey)\n",
    "llm_transformer = LLMGraphTransformer(llm=llm)"
   ]
  },
  {
   "cell_type": "markdown",
   "id": "20669dd2-28b0-4a3e-9a40-f1a6ee55b825",
   "metadata": {},
   "source": [
    "### Provide Email Text\n",
    "This is a naive approach that takes in one email and converts it to entities and relationships in the Neo4j graph. Ideally we want to read a set of emails and perform this operation for all of them."
   ]
  },
  {
   "cell_type": "code",
   "execution_count": 12,
   "id": "3f1f7b62-2653-4c67-8e35-810e1eb7e277",
   "metadata": {},
   "outputs": [],
   "source": [
    "text = \"\"\"\n",
    "Team,\n",
    "\n",
    "Thank you for a productive meeting today. I appreciate everyone's insights and contributions. Please proceed with the actions discussed, and let's aim to have the draft report ready for review by next Wednesday. Feel free to reach out if you encounter any issues.\n",
    "\n",
    "Best regards,\n",
    "Emily\n",
    "\"\"\""
   ]
  },
  {
   "cell_type": "markdown",
   "id": "8bbe8d7f-518f-4f39-a667-b2895b147de3",
   "metadata": {},
   "source": [
    "### Build the Knowledge Graph (KG) \n",
    "\n",
    "The code below is for transforming text into a graph structure. Here, you are creating a list of Document objects. Each Document object is initialized with some content (text). The variable text should contain the textual data you want to process. The llm_transformer (which stands for Language Model Transformer) is used to convert the list of Document objects into a format suitable for graph representation. \n",
    "We are concerned about:\n",
    "* Entity Recognition: Identifying entities within the text.\n",
    "* Relationship Extraction: Determining the relationships between identified entities.\n",
    "* Graph Construction: Constructing a graph where nodes represent entities and edges represent relationships between these entities."
   ]
  },
  {
   "cell_type": "code",
   "execution_count": 13,
   "id": "4b7f58a0-4ef2-4d66-82da-fad1387251cd",
   "metadata": {},
   "outputs": [
    {
     "name": "stdout",
     "output_type": "stream",
     "text": [
      "Nodes:[Node(id='Productive Meeting', type='Event'), Node(id='Draft Report', type='Document'), Node(id='Emily', type='Person')]\n",
      "Relationships:[Relationship(source=Node(id='Emily', type='Person'), target=Node(id='Productive Meeting', type='Event'), type='THANKED_FOR'), Relationship(source=Node(id='Draft Report', type='Document'), target=Node(id='Productive Meeting', type='Event'), type='DISCUSSED_AT'), Relationship(source=Node(id='Draft Report', type='Document'), target=Node(id='Emily', type='Person'), type='REVIEW_BY')]\n"
     ]
    }
   ],
   "source": [
    "documents = [Document(page_content=text)]\n",
    "graph_documents = llm_transformer.convert_to_graph_documents(documents)\n",
    "print(f\"Nodes:{graph_documents[0].nodes}\")\n",
    "print(f\"Relationships:{graph_documents[0].relationships}\")\n",
    "\n",
    "graph.add_graph_documents(graph_documents)"
   ]
  },
  {
   "cell_type": "code",
   "execution_count": null,
   "id": "20e7c724-3843-4683-a6d7-e74e2d8f2c84",
   "metadata": {},
   "outputs": [],
   "source": []
  }
 ],
 "metadata": {
  "kernelspec": {
   "display_name": "Python 3 (ipykernel)",
   "language": "python",
   "name": "python3"
  },
  "language_info": {
   "codemirror_mode": {
    "name": "ipython",
    "version": 3
   },
   "file_extension": ".py",
   "mimetype": "text/x-python",
   "name": "python",
   "nbconvert_exporter": "python",
   "pygments_lexer": "ipython3",
   "version": "3.10.14"
  }
 },
 "nbformat": 4,
 "nbformat_minor": 5
}
