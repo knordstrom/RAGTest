{
 "cells": [
  {
   "cell_type": "markdown",
   "id": "783a5d8b-fba9-4e2d-9828-aa9e3a94b264",
   "metadata": {},
   "source": [
    "### Imports"
   ]
  },
  {
   "cell_type": "code",
   "execution_count": 1,
   "id": "41e9256a-04fd-4d7f-8b4b-34633790b988",
   "metadata": {},
   "outputs": [],
   "source": [
    "from langchain_community.graphs import Neo4jGraph\n",
    "from langchain_experimental.graph_transformers import LLMGraphTransformer\n",
    "from langchain_openai import ChatOpenAI\n",
    "from langchain_core.documents import Document"
   ]
  },
  {
   "cell_type": "markdown",
   "id": "0c00b514-86a7-462b-b474-1904c978b997",
   "metadata": {},
   "source": [
    "### Connect to the Neo4j database and instantiate an LLM "
   ]
  },
  {
   "cell_type": "code",
   "execution_count": 2,
   "id": "32f6a344-c561-49bf-9b6e-78bfd2ce5676",
   "metadata": {},
   "outputs": [],
   "source": [
    "openai_apikey = \"\"\n",
    "url = \"bolt://localhost:7687\"\n",
    "username = \"neo4j\"\n",
    "password = \"\"\n",
    "graph = Neo4jGraph(url=url, username=username, password=password)\n",
    "\n",
    "llm = ChatOpenAI(temperature=0, model_name=\"gpt-4-0125-preview\", openai_api_key=openai_apikey)"
   ]
  },
  {
   "cell_type": "markdown",
   "id": "d2dd6392-b87b-4a03-9e16-a8949cb1f676",
   "metadata": {},
   "source": [
    "### Instatiate the LLMGraphTransformed\n",
    "\n",
    "Add allowed nodes and relationships as a parameter to the Transformer. "
   ]
  },
  {
   "cell_type": "code",
   "execution_count": 3,
   "id": "db9dcb2a-9cc3-4a1d-9a29-56ac2f131dc7",
   "metadata": {},
   "outputs": [],
   "source": [
    "llm_transformer_filtered = LLMGraphTransformer(\n",
    "    llm=llm,\n",
    "    allowed_nodes=[\n",
    "    \"Person\", \"Group\", \"Position\", \"Location\", \"Institution\", \"Event\", \"Initiative\", \"Document\",\n",
    "    \"Task\", \"Meeting\", \"Product\", \"Service\", \"Deadline\", \"Department\", \"Campaign\", \"Policy\", \"Technology\",\n",
    "    \"Issue\", \"Solution\"\n",
    "    ],\n",
    "    allowed_relationships=[\n",
    "    \"is located at\", \"participates in\", \"makes requests\", \"responds to requests\", \"writes\", \"edits\", \n",
    "    \"comments on\", \"belongs to\", \"holds\", \"has applied for\", \"contacted\", \"has title\", \"visited\", \"located in\",\n",
    "    \"is filled by\", \"works for\", \"is offered by\", \"employs\", \"affiliates with\", \"hires\", \"houses\", \n",
    "    \"sponsors\", \"hires for\", \"reports to\", \"collaborates with\", \"approves\", \"rejects\", \"attends\", \"hosts\", \n",
    "    \"schedules\", \"submits\", \"reviews\", \"requires\", \"assigns\", \"shares\", \"mentions\", \"relates to\", \"updates\", \n",
    "    \"follows up on\", \"leads\"\n",
    "    ]\n",
    ")"
   ]
  },
  {
   "cell_type": "markdown",
   "id": "d51e5f4a-cdde-4947-bdc5-bf8f101f1035",
   "metadata": {},
   "source": [
    "### Provide Email Text\n",
    "This is a naive approach that takes in one email and converts it to entities and relationships in the Neo4j graph. Ideally we want to read a set of emails and perform this operation for all of them."
   ]
  },
  {
   "cell_type": "code",
   "execution_count": 4,
   "id": "b87971ee-ac80-47a7-8b6e-5519cb5bbb01",
   "metadata": {},
   "outputs": [],
   "source": [
    "text = \"\"\"\n",
    "Hi Emily,\n",
    "\n",
    "I'll be there. I've started compiling the marketing data for the quarter and have some insights to share that could impact our overall strategy.\n",
    "\n",
    "Best,\n",
    "Tom\n",
    "\"\"\""
   ]
  },
  {
   "cell_type": "markdown",
   "id": "cae00db1-d466-4d46-aba6-1cf53109eef8",
   "metadata": {},
   "source": [
    "### Build the Knowledge Graph (KG) \n",
    "\n",
    "The code below is for transforming text into a graph structure. Here, you are creating a list of Document objects. Each Document object is initialized with some content (text). The variable text should contain the textual data you want to process. The llm_transformer (which stands for Language Model Transformer) is used to convert the list of Document objects into a format suitable for graph representation. \n",
    "We are concerned about:\n",
    "* Entity Recognition: Identifying entities within the text.\n",
    "* Relationship Extraction: Determining the relationships between identified entities.\n",
    "* Graph Construction: Constructing a graph where nodes represent entities and edges represent relationships between these entities."
   ]
  },
  {
   "cell_type": "code",
   "execution_count": 5,
   "id": "be39176b-822d-4578-9c97-aaf798910442",
   "metadata": {},
   "outputs": [
    {
     "name": "stdout",
     "output_type": "stream",
     "text": [
      "Nodes:[Node(id='Emily', type='Person'), Node(id='Tom', type='Person')]\n",
      "Relationships:[]\n"
     ]
    }
   ],
   "source": [
    "documents = [Document(page_content=text)]\n",
    "graph_documents = llm_transformer_filtered.convert_to_graph_documents(documents)\n",
    "print(f\"Nodes:{graph_documents[0].nodes}\")\n",
    "print(f\"Relationships:{graph_documents[0].relationships}\")\n",
    "\n",
    "graph.add_graph_documents(graph_documents)"
   ]
  },
  {
   "cell_type": "markdown",
   "id": "fb9b3f42-ee38-411c-b343-2a65c9f1f35f",
   "metadata": {},
   "source": [
    "### Observations\n",
    "\n",
    "I noticed that no relationships were detected. This is because none of the \"allowed_relationships\" were present in this email text. "
   ]
  },
  {
   "cell_type": "code",
   "execution_count": null,
   "id": "5b738e02-e707-4c6c-a4b0-59c9cb2a7482",
   "metadata": {},
   "outputs": [],
   "source": []
  }
 ],
 "metadata": {
  "kernelspec": {
   "display_name": "Python 3 (ipykernel)",
   "language": "python",
   "name": "python3"
  },
  "language_info": {
   "codemirror_mode": {
    "name": "ipython",
    "version": 3
   },
   "file_extension": ".py",
   "mimetype": "text/x-python",
   "name": "python",
   "nbconvert_exporter": "python",
   "pygments_lexer": "ipython3",
   "version": "3.10.14"
  }
 },
 "nbformat": 4,
 "nbformat_minor": 5
}
